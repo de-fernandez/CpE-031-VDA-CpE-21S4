{
  "nbformat": 4,
  "nbformat_minor": 0,
  "metadata": {
    "colab": {
      "provenance": [],
      "authorship_tag": "ABX9TyOBpe5jslkW5TdRkZ6o4o7q",
      "include_colab_link": true
    },
    "kernelspec": {
      "name": "python3",
      "display_name": "Python 3"
    },
    "language_info": {
      "name": "python"
    }
  },
  "cells": [
    {
      "cell_type": "markdown",
      "metadata": {
        "id": "view-in-github",
        "colab_type": "text"
      },
      "source": [
        "<a href=\"https://colab.research.google.com/github/de-fernandez/CpE-031-VDA-CpE-21S4/blob/main/Variable_and_Data_Type.ipynb\" target=\"_parent\"><img src=\"https://colab.research.google.com/assets/colab-badge.svg\" alt=\"Open In Colab\"/></a>"
      ]
    },
    {
      "cell_type": "markdown",
      "source": [
        "Exercise 1"
      ],
      "metadata": {
        "id": "OcsotzFP9BWY"
      }
    },
    {
      "cell_type": "markdown",
      "source": [
        "1. Variable and Data Types"
      ],
      "metadata": {
        "id": "m6koU_7N9EOJ"
      }
    },
    {
      "cell_type": "markdown",
      "source": [
        "Python uses five standard data types: Numbers"
      ],
      "metadata": {
        "id": "OKgfLLYB-smw"
      }
    },
    {
      "cell_type": "markdown",
      "source": [
        "Numbers"
      ],
      "metadata": {
        "id": "aUC5q6zF11hl"
      }
    },
    {
      "cell_type": "code",
      "source": [
        "varNum = 123\n",
        "pi = 3.14159"
      ],
      "metadata": {
        "id": "LoXo6h5K-8yX"
      },
      "execution_count": null,
      "outputs": []
    },
    {
      "cell_type": "markdown",
      "source": [
        "String"
      ],
      "metadata": {
        "id": "Y4LenmRE_CeY"
      }
    },
    {
      "cell_type": "code",
      "source": [
        "varString = \"Hello World\"\n",
        "varText = 'This is a String'"
      ],
      "metadata": {
        "id": "rvFNmvDX_GpY"
      },
      "execution_count": null,
      "outputs": []
    },
    {
      "cell_type": "markdown",
      "source": [
        "List"
      ],
      "metadata": {
        "id": "1v55X-Ah_KPG"
      }
    },
    {
      "cell_type": "code",
      "source": [
        "varList = [\"abc\", 123]"
      ],
      "metadata": {
        "id": "NSIS9Pwe_P45"
      },
      "execution_count": 28,
      "outputs": []
    },
    {
      "cell_type": "markdown",
      "source": [
        "Tuples"
      ],
      "metadata": {
        "id": "dMATswd5_XYQ"
      }
    },
    {
      "cell_type": "code",
      "source": [
        "varTuple = 'abc', 123, \"HELLO\""
      ],
      "metadata": {
        "id": "tWBw9dVE_c4n"
      },
      "execution_count": null,
      "outputs": []
    },
    {
      "cell_type": "markdown",
      "source": [
        "Dictionaries"
      ],
      "metadata": {
        "id": "zUno2VDJ_iEo"
      }
    },
    {
      "cell_type": "code",
      "source": [
        "var = 3\n",
        "varDict = {'first':1, '2':'2nd', 3:var}"
      ],
      "metadata": {
        "id": "05-9oJP7_l8v"
      },
      "execution_count": null,
      "outputs": []
    },
    {
      "cell_type": "code",
      "source": [
        "varDict = {}\n",
        "varDict ['first'] = 1\n",
        "varDict ['2'] = '2nd'\n",
        "varDict [3] = var"
      ],
      "metadata": {
        "id": "RLFSaqc6_sgA"
      },
      "execution_count": null,
      "outputs": []
    },
    {
      "cell_type": "markdown",
      "source": [
        "2. Arithmetic"
      ],
      "metadata": {
        "id": "HvKCAw7q4qxi"
      }
    },
    {
      "cell_type": "markdown",
      "source": [
        "Addition"
      ],
      "metadata": {
        "id": "mplWPX3m2nI6"
      }
    },
    {
      "cell_type": "code",
      "execution_count": 3,
      "metadata": {
        "colab": {
          "base_uri": "https://localhost:8080/"
        },
        "id": "ORVxFWw81o1S",
        "outputId": "a17e853f-2958-4745-89db-7896f47dab30"
      },
      "outputs": [
        {
          "output_type": "stream",
          "name": "stdout",
          "text": [
            "8\n"
          ]
        }
      ],
      "source": [
        "a = 5 + 3\n",
        "print(a)"
      ]
    },
    {
      "cell_type": "markdown",
      "source": [
        "Subtraction"
      ],
      "metadata": {
        "id": "nKOjhVPB6P4o"
      }
    },
    {
      "cell_type": "code",
      "source": [
        "a = 5 - 3\n",
        "print(a)"
      ],
      "metadata": {
        "colab": {
          "base_uri": "https://localhost:8080/"
        },
        "id": "wyRWL5QU5Iji",
        "outputId": "24a24be2-8d21-417d-e90d-603854683599"
      },
      "execution_count": 5,
      "outputs": [
        {
          "output_type": "stream",
          "name": "stdout",
          "text": [
            "2\n"
          ]
        }
      ]
    },
    {
      "cell_type": "markdown",
      "source": [
        "Multiplication"
      ],
      "metadata": {
        "id": "iDaZ7QRm6Udg"
      }
    },
    {
      "cell_type": "code",
      "source": [
        "a = 5 * 3\n",
        "print(a)"
      ],
      "metadata": {
        "colab": {
          "base_uri": "https://localhost:8080/"
        },
        "id": "b6ifRmsz5O_o",
        "outputId": "bb99e0dd-f989-471b-92c4-653d7c29dc11"
      },
      "execution_count": 4,
      "outputs": [
        {
          "output_type": "stream",
          "name": "stdout",
          "text": [
            "15\n"
          ]
        }
      ]
    },
    {
      "cell_type": "markdown",
      "source": [
        "Exponent"
      ],
      "metadata": {
        "id": "Zwobq8146YyA"
      }
    },
    {
      "cell_type": "code",
      "source": [
        "a = 5 ** 3\n",
        "print(a)"
      ],
      "metadata": {
        "colab": {
          "base_uri": "https://localhost:8080/"
        },
        "id": "F_5sB7l25YsI",
        "outputId": "051faf11-f533-46fe-fb92-97601cc13045"
      },
      "execution_count": 10,
      "outputs": [
        {
          "output_type": "stream",
          "name": "stdout",
          "text": [
            "125\n"
          ]
        }
      ]
    },
    {
      "cell_type": "markdown",
      "source": [
        "Division"
      ],
      "metadata": {
        "id": "OrLesjfI6eEx"
      }
    },
    {
      "cell_type": "code",
      "source": [
        "a = 5 / 3\n",
        "print(a)"
      ],
      "metadata": {
        "colab": {
          "base_uri": "https://localhost:8080/"
        },
        "id": "RiISR_4c5vnB",
        "outputId": "7afe9add-07d5-4a24-9e64-d7d2ab4b0ebc"
      },
      "execution_count": 11,
      "outputs": [
        {
          "output_type": "stream",
          "name": "stdout",
          "text": [
            "1.6666666666666667\n"
          ]
        }
      ]
    },
    {
      "cell_type": "code",
      "source": [
        "a = 5 % 3\n",
        "print(a)"
      ],
      "metadata": {
        "colab": {
          "base_uri": "https://localhost:8080/"
        },
        "id": "pgqQ8-tz6BJp",
        "outputId": "a739607d-2da2-424f-934f-917e44c53ffc"
      },
      "execution_count": 12,
      "outputs": [
        {
          "output_type": "stream",
          "name": "stdout",
          "text": [
            "2\n"
          ]
        }
      ]
    },
    {
      "cell_type": "code",
      "source": [
        "a = 5 // 3\n",
        "print(a)"
      ],
      "metadata": {
        "colab": {
          "base_uri": "https://localhost:8080/"
        },
        "id": "uSPNiGoU6IPq",
        "outputId": "982cd91e-075c-427e-89c6-4eb9084e1698"
      },
      "execution_count": 13,
      "outputs": [
        {
          "output_type": "stream",
          "name": "stdout",
          "text": [
            "1\n"
          ]
        }
      ]
    },
    {
      "cell_type": "markdown",
      "source": [
        "Increment/Decrement"
      ],
      "metadata": {
        "id": "59VNBPie6rfR"
      }
    },
    {
      "cell_type": "code",
      "source": [
        "a = 5\n",
        "a += 1\n",
        "print(a)"
      ],
      "metadata": {
        "colab": {
          "base_uri": "https://localhost:8080/"
        },
        "id": "CyRXIEf16u0B",
        "outputId": "e4cdfccf-eb84-40f3-e262-a48ac1d22f63"
      },
      "execution_count": 14,
      "outputs": [
        {
          "output_type": "stream",
          "name": "stdout",
          "text": [
            "6\n"
          ]
        }
      ]
    },
    {
      "cell_type": "markdown",
      "source": [
        "Decrement"
      ],
      "metadata": {
        "id": "WCbPirsE6zbJ"
      }
    },
    {
      "cell_type": "code",
      "source": [
        "a = 5\n",
        "a -= 1"
      ],
      "metadata": {
        "id": "_uQCTXyP61gA"
      },
      "execution_count": 15,
      "outputs": []
    },
    {
      "cell_type": "markdown",
      "source": [
        "String Concatenation"
      ],
      "metadata": {
        "id": "g0qq2Ne166QR"
      }
    },
    {
      "cell_type": "code",
      "source": [
        "a = 'Hello' + 'World'\n",
        "print(a)"
      ],
      "metadata": {
        "colab": {
          "base_uri": "https://localhost:8080/"
        },
        "id": "in8YkfO-61hS",
        "outputId": "c60521a9-b639-40d2-8fc2-c357a4428a12"
      },
      "execution_count": 16,
      "outputs": [
        {
          "output_type": "stream",
          "name": "stdout",
          "text": [
            "HelloWorld\n"
          ]
        }
      ]
    },
    {
      "cell_type": "markdown",
      "source": [
        "Complex Expressions"
      ],
      "metadata": {
        "id": "uqQ0-frJ7I-B"
      }
    },
    {
      "cell_type": "code",
      "source": [
        "a = 3 + 5 - 6 * 2 / 4\n",
        "print(a)"
      ],
      "metadata": {
        "colab": {
          "base_uri": "https://localhost:8080/"
        },
        "id": "P2iQSESq7Cva",
        "outputId": "e765e122-1e32-4fb7-d548-edef1b3133e5"
      },
      "execution_count": 18,
      "outputs": [
        {
          "output_type": "stream",
          "name": "stdout",
          "text": [
            "5.0\n"
          ]
        }
      ]
    },
    {
      "cell_type": "markdown",
      "source": [
        "3. Conditional Statement and Data Structures"
      ],
      "metadata": {
        "id": "yyYbP09j7jwQ"
      }
    },
    {
      "cell_type": "markdown",
      "source": [
        "Conditional Statements"
      ],
      "metadata": {
        "id": "XbAu860u7qMA"
      }
    },
    {
      "cell_type": "markdown",
      "source": [
        "Boolean Conditions"
      ],
      "metadata": {
        "id": "3EqNlTP97uBw"
      }
    },
    {
      "cell_type": "code",
      "source": [
        "x = True\n",
        "\n",
        "if x:\n",
        "  print(\"var x is True\")\n",
        "else:\n",
        "  print(\"var x is False\")"
      ],
      "metadata": {
        "colab": {
          "base_uri": "https://localhost:8080/"
        },
        "id": "XvBqadS-7wJH",
        "outputId": "e360b477-52f1-463f-b5b2-ced04d1a9eee"
      },
      "execution_count": 19,
      "outputs": [
        {
          "output_type": "stream",
          "name": "stdout",
          "text": [
            "var x is True\n"
          ]
        }
      ]
    },
    {
      "cell_type": "markdown",
      "source": [
        "String Conditions"
      ],
      "metadata": {
        "id": "EX_qoJsz8CP3"
      }
    },
    {
      "cell_type": "code",
      "source": [
        "x = \"Hello World!\"\n",
        "\n",
        "if x == 'Hello World!':\n",
        "  print(\"var x is Hello World!\")\n",
        "else:\n",
        "  print(\"var x is not Hello World!\")"
      ],
      "metadata": {
        "colab": {
          "base_uri": "https://localhost:8080/"
        },
        "id": "fgKdjPm_8GAP",
        "outputId": "f3dc303e-699f-4524-fb97-21c371bc0f39"
      },
      "execution_count": 22,
      "outputs": [
        {
          "output_type": "stream",
          "name": "stdout",
          "text": [
            "var x is Hello World!\n"
          ]
        }
      ]
    },
    {
      "cell_type": "markdown",
      "source": [
        "Numerical Conditions"
      ],
      "metadata": {
        "id": "FhmqgGyS8X0g"
      }
    },
    {
      "cell_type": "code",
      "source": [
        "x = 10\n",
        "\n",
        "if x == '10':\n",
        "  print(\"var x is a string\")\n",
        "elif x == 10:\n",
        "  print(\"var x is an integer\")\n",
        "else:\n",
        "  print(\"var x is none of the above\")"
      ],
      "metadata": {
        "colab": {
          "base_uri": "https://localhost:8080/"
        },
        "id": "XwdKr4bm8abo",
        "outputId": "25adc710-14e3-4c54-912b-ecd3840121f0"
      },
      "execution_count": 20,
      "outputs": [
        {
          "output_type": "stream",
          "name": "stdout",
          "text": [
            "var x is an integer\n"
          ]
        }
      ]
    },
    {
      "cell_type": "markdown",
      "source": [
        "4. Loops"
      ],
      "metadata": {
        "id": "s4w_6Mm-9Xv3"
      }
    },
    {
      "cell_type": "markdown",
      "source": [
        "For Loops"
      ],
      "metadata": {
        "id": "BexQP5rR9aOf"
      }
    },
    {
      "cell_type": "code",
      "source": [
        "for var in range(0, 5, 2):\n",
        "  print(var)"
      ],
      "metadata": {
        "colab": {
          "base_uri": "https://localhost:8080/"
        },
        "id": "w1ZUTsYG9mvv",
        "outputId": "1977d8ac-cc71-4ea7-8257-66606f27402d"
      },
      "execution_count": 24,
      "outputs": [
        {
          "output_type": "stream",
          "name": "stdout",
          "text": [
            "0\n",
            "2\n",
            "4\n"
          ]
        }
      ]
    },
    {
      "cell_type": "markdown",
      "source": [
        "While Loops"
      ],
      "metadata": {
        "id": "DKkWd28B9ucB"
      }
    },
    {
      "cell_type": "code",
      "source": [
        "var = 0\n",
        "while var < 5:\n",
        "  print(var)\n",
        "  var += 2"
      ],
      "metadata": {
        "colab": {
          "base_uri": "https://localhost:8080/"
        },
        "id": "i8IWV1gI9w3f",
        "outputId": "2cc0ea07-92b6-493a-82ca-19c893eedebe"
      },
      "execution_count": 25,
      "outputs": [
        {
          "output_type": "stream",
          "name": "stdout",
          "text": [
            "0\n",
            "2\n",
            "4\n"
          ]
        }
      ]
    },
    {
      "cell_type": "markdown",
      "source": [
        "Nested Loops"
      ],
      "metadata": {
        "id": "zJuFgWAb942Y"
      }
    },
    {
      "cell_type": "code",
      "source": [
        "x = 0\n",
        "while x < 5:\n",
        "  for y in range(0, x):\n",
        "    print(y, end='')\n",
        "  x += 1\n",
        "  print()"
      ],
      "metadata": {
        "colab": {
          "base_uri": "https://localhost:8080/"
        },
        "id": "S0dYiVnM97Je",
        "outputId": "ffd6c88e-28ac-45a3-f211-0d4704f88265"
      },
      "execution_count": 26,
      "outputs": [
        {
          "output_type": "stream",
          "name": "stdout",
          "text": [
            "\n",
            "0\n",
            "01\n",
            "012\n",
            "0123\n"
          ]
        }
      ]
    },
    {
      "cell_type": "markdown",
      "source": [
        "*Note: The loop declaration ends with a colon (:) while its contents inside are indented"
      ],
      "metadata": {
        "id": "XiZT9xLh-Xto"
      }
    },
    {
      "cell_type": "markdown",
      "source": [
        "5. List"
      ],
      "metadata": {
        "id": "3ETF5aNl_zE4"
      }
    },
    {
      "cell_type": "markdown",
      "source": [
        "Can contain a number of values comprised of different datatypes."
      ],
      "metadata": {
        "id": "Y01OD6OS_0m5"
      }
    },
    {
      "cell_type": "code",
      "source": [
        "pi = 3.14159\n",
        "varList = [1, 2, 'A', 'B', 'Hello!', pi]\n",
        "print(varList[0])"
      ],
      "metadata": {
        "colab": {
          "base_uri": "https://localhost:8080/"
        },
        "id": "ZdidGYbo_7f_",
        "outputId": "d2112683-32d3-485f-8fc5-801fd6d79f94"
      },
      "execution_count": 34,
      "outputs": [
        {
          "output_type": "stream",
          "name": "stdout",
          "text": [
            "1\n"
          ]
        }
      ]
    },
    {
      "cell_type": "code",
      "source": [
        "print(varList[4])"
      ],
      "metadata": {
        "colab": {
          "base_uri": "https://localhost:8080/"
        },
        "id": "1JIBlVt3ALMG",
        "outputId": "3792a09b-5165-49f8-937f-4fe1f606bf6a"
      },
      "execution_count": 35,
      "outputs": [
        {
          "output_type": "stream",
          "name": "stdout",
          "text": [
            "Hello!\n"
          ]
        }
      ]
    },
    {
      "cell_type": "code",
      "source": [
        "varList.append('World!')\n",
        "print(varList[6])"
      ],
      "metadata": {
        "colab": {
          "base_uri": "https://localhost:8080/"
        },
        "id": "ihTq_3KGASNI",
        "outputId": "0a3162c7-28b3-44ff-8d99-6679c6f89268"
      },
      "execution_count": 36,
      "outputs": [
        {
          "output_type": "stream",
          "name": "stdout",
          "text": [
            "World!\n"
          ]
        }
      ]
    },
    {
      "cell_type": "code",
      "source": [
        "len(varList)"
      ],
      "metadata": {
        "colab": {
          "base_uri": "https://localhost:8080/"
        },
        "id": "HNKorM2tAgQI",
        "outputId": "f8206c07-b1e5-46b7-a1b8-811c6a1b7b8a"
      },
      "execution_count": 37,
      "outputs": [
        {
          "output_type": "execute_result",
          "data": {
            "text/plain": [
              "7"
            ]
          },
          "metadata": {},
          "execution_count": 37
        }
      ]
    },
    {
      "cell_type": "code",
      "source": [
        "print(varList[5])"
      ],
      "metadata": {
        "colab": {
          "base_uri": "https://localhost:8080/"
        },
        "id": "Ck3C5Z4RAjlg",
        "outputId": "7508e679-0de1-49f4-96e3-d57b3f0f888e"
      },
      "execution_count": 38,
      "outputs": [
        {
          "output_type": "stream",
          "name": "stdout",
          "text": [
            "3.14159\n"
          ]
        }
      ]
    },
    {
      "cell_type": "code",
      "source": [
        "varList.remove(pi)\n",
        "print(varList[5])"
      ],
      "metadata": {
        "colab": {
          "base_uri": "https://localhost:8080/"
        },
        "id": "Px30W76uApVA",
        "outputId": "45348b32-c280-4852-a4fb-2093e8c0002f"
      },
      "execution_count": 39,
      "outputs": [
        {
          "output_type": "stream",
          "name": "stdout",
          "text": [
            "World!\n"
          ]
        }
      ]
    },
    {
      "cell_type": "markdown",
      "source": [
        "*Note: List starts with an index of 0. The remove() method erases the first value that matches the parameter."
      ],
      "metadata": {
        "id": "MGVy84W4Awl4"
      }
    },
    {
      "cell_type": "markdown",
      "source": [
        "6. Dictionaries"
      ],
      "metadata": {
        "id": "F0hNDwwKBOq6"
      }
    },
    {
      "cell_type": "code",
      "source": [
        "var = \"Hello World!\"\n",
        "varDict = {'first':123, 2:'abc', '3':var, 4:['lista', 'listb']}\n",
        "print(varDict['first'])"
      ],
      "metadata": {
        "colab": {
          "base_uri": "https://localhost:8080/"
        },
        "id": "zawKZhBPBQbo",
        "outputId": "db992bbe-b27c-4759-c680-e379e147854d"
      },
      "execution_count": 40,
      "outputs": [
        {
          "output_type": "stream",
          "name": "stdout",
          "text": [
            "123\n"
          ]
        }
      ]
    },
    {
      "cell_type": "code",
      "source": [
        "print(varDict[2])"
      ],
      "metadata": {
        "colab": {
          "base_uri": "https://localhost:8080/"
        },
        "id": "brL1itpFBuRw",
        "outputId": "d4c56358-f910-4a6c-91a3-99ba03d6b232"
      },
      "execution_count": 41,
      "outputs": [
        {
          "output_type": "stream",
          "name": "stdout",
          "text": [
            "abc\n"
          ]
        }
      ]
    },
    {
      "cell_type": "code",
      "source": [
        "print(varDict['3'])"
      ],
      "metadata": {
        "colab": {
          "base_uri": "https://localhost:8080/"
        },
        "id": "muFL3VkcBzJf",
        "outputId": "408f2409-bbe6-42ee-c583-d28189268680"
      },
      "execution_count": 42,
      "outputs": [
        {
          "output_type": "stream",
          "name": "stdout",
          "text": [
            "Hello World!\n"
          ]
        }
      ]
    },
    {
      "cell_type": "code",
      "source": [
        "print(varDict[4])"
      ],
      "metadata": {
        "colab": {
          "base_uri": "https://localhost:8080/"
        },
        "id": "m0lXGVdkB4ov",
        "outputId": "e1080c24-97e7-4bf9-8c93-42f3d52df75b"
      },
      "execution_count": 43,
      "outputs": [
        {
          "output_type": "stream",
          "name": "stdout",
          "text": [
            "['lista', 'listb']\n"
          ]
        }
      ]
    },
    {
      "cell_type": "code",
      "source": [
        "print(varDict[4][1])"
      ],
      "metadata": {
        "colab": {
          "base_uri": "https://localhost:8080/"
        },
        "id": "ehz0pWJ0B95F",
        "outputId": "d8d62d83-ee39-4cf1-eef1-239ef6d97aa0"
      },
      "execution_count": 48,
      "outputs": [
        {
          "output_type": "stream",
          "name": "stdout",
          "text": [
            "listb\n"
          ]
        }
      ]
    },
    {
      "cell_type": "code",
      "source": [
        "len(varDict)"
      ],
      "metadata": {
        "colab": {
          "base_uri": "https://localhost:8080/"
        },
        "id": "AZaoEuPSCFOW",
        "outputId": "4a60c37b-b763-47e5-8ad3-e3b5fae91a06"
      },
      "execution_count": 45,
      "outputs": [
        {
          "output_type": "execute_result",
          "data": {
            "text/plain": [
              "4"
            ]
          },
          "metadata": {},
          "execution_count": 45
        }
      ]
    },
    {
      "cell_type": "markdown",
      "source": [
        "7. Generators and Comprehension"
      ],
      "metadata": {
        "id": "yMKccvW5EGxX"
      }
    },
    {
      "cell_type": "markdown",
      "source": [
        "List Generators and Comprehension"
      ],
      "metadata": {
        "id": "XoXyGXCMEXuf"
      }
    },
    {
      "cell_type": "markdown",
      "source": [
        "Generators can be used to build list in the memory as objects"
      ],
      "metadata": {
        "id": "kEL8UA1DEa-v"
      }
    },
    {
      "cell_type": "code",
      "source": [
        "def gen_num_up_to(n):\n",
        "  num = 0\n",
        "  while num < n:\n",
        "    yield num\n",
        "    num += 1"
      ],
      "metadata": {
        "id": "vx6qRWZVEiHf"
      },
      "execution_count": 50,
      "outputs": []
    },
    {
      "cell_type": "code",
      "source": [
        "gen_num_up_to(5)"
      ],
      "metadata": {
        "colab": {
          "base_uri": "https://localhost:8080/"
        },
        "id": "tepwvWyzExQ3",
        "outputId": "cb0b6f20-0c02-4e32-e9b8-31defacb8c6f"
      },
      "execution_count": 51,
      "outputs": [
        {
          "output_type": "execute_result",
          "data": {
            "text/plain": [
              "<generator object gen_num_up_to at 0x794744e83ae0>"
            ]
          },
          "metadata": {},
          "execution_count": 51
        }
      ]
    },
    {
      "cell_type": "markdown",
      "source": [
        "*Note: This creates an object."
      ],
      "metadata": {
        "id": "jTQQY6hKFCXJ"
      }
    },
    {
      "cell_type": "code",
      "source": [
        "def gen_num_up_to(n):\n",
        "  num = 0\n",
        "  while num < n:\n",
        "    yield num\n",
        "    num += 2\n",
        "\n",
        "varList = gen_num_up_to(5)\n",
        "print([var for var in varList])"
      ],
      "metadata": {
        "colab": {
          "base_uri": "https://localhost:8080/"
        },
        "id": "NkQgTwiWFJaf",
        "outputId": "5fbefe3b-3d04-4724-acc2-b3802076090e"
      },
      "execution_count": 52,
      "outputs": [
        {
          "output_type": "stream",
          "name": "stdout",
          "text": [
            "[0, 2, 4]\n"
          ]
        }
      ]
    },
    {
      "cell_type": "code",
      "source": [
        "varList = range(0, 5, 2)\n",
        "print([var for var in varList])"
      ],
      "metadata": {
        "colab": {
          "base_uri": "https://localhost:8080/"
        },
        "id": "9Br56oBeFZ0V",
        "outputId": "fe5a30f6-3ef9-4dd2-d9c6-62dc49d21d05"
      },
      "execution_count": 53,
      "outputs": [
        {
          "output_type": "stream",
          "name": "stdout",
          "text": [
            "[0, 2, 4]\n"
          ]
        }
      ]
    },
    {
      "cell_type": "markdown",
      "source": [
        "*Note: Python's built in range function range([start], stop, [step])"
      ],
      "metadata": {
        "id": "iScr3qvGFkcQ"
      }
    },
    {
      "cell_type": "markdown",
      "source": [
        "8. Slicing"
      ],
      "metadata": {
        "id": "OMoKst7AGjnA"
      }
    },
    {
      "cell_type": "code",
      "source": [
        "varList = [1, 2, 3, 4, 5, 6, 7, 8, 9, 10]\n",
        "print(varList[:5])"
      ],
      "metadata": {
        "colab": {
          "base_uri": "https://localhost:8080/"
        },
        "id": "Aw5P15WVGqYA",
        "outputId": "4ff604de-4d1d-4fd3-9f80-a022c0235ac9"
      },
      "execution_count": 55,
      "outputs": [
        {
          "output_type": "stream",
          "name": "stdout",
          "text": [
            "[1, 2, 3, 4, 5]\n"
          ]
        }
      ]
    },
    {
      "cell_type": "code",
      "source": [
        "print(varList[5:])"
      ],
      "metadata": {
        "colab": {
          "base_uri": "https://localhost:8080/"
        },
        "id": "CoUltdyjG5R8",
        "outputId": "4c4eca07-ae28-4b1f-dd53-29186443c0f4"
      },
      "execution_count": 56,
      "outputs": [
        {
          "output_type": "stream",
          "name": "stdout",
          "text": [
            "[6, 7, 8, 9, 10]\n"
          ]
        }
      ]
    },
    {
      "cell_type": "code",
      "source": [
        "print(varList[:-2])"
      ],
      "metadata": {
        "colab": {
          "base_uri": "https://localhost:8080/"
        },
        "id": "RHPBb6a3G-XO",
        "outputId": "f3ad2df5-bb5e-4bf9-efb3-a0c03a8e64ab"
      },
      "execution_count": 57,
      "outputs": [
        {
          "output_type": "stream",
          "name": "stdout",
          "text": [
            "[1, 2, 3, 4, 5, 6, 7, 8]\n"
          ]
        }
      ]
    },
    {
      "cell_type": "code",
      "source": [
        "print(varList[-2:])"
      ],
      "metadata": {
        "colab": {
          "base_uri": "https://localhost:8080/"
        },
        "id": "DUW87N2JHNo3",
        "outputId": "cca783db-df31-4e36-a781-34d91d4b9c84"
      },
      "execution_count": 58,
      "outputs": [
        {
          "output_type": "stream",
          "name": "stdout",
          "text": [
            "[9, 10]\n"
          ]
        }
      ]
    },
    {
      "cell_type": "code",
      "source": [
        "print(varList[2:-2])"
      ],
      "metadata": {
        "colab": {
          "base_uri": "https://localhost:8080/"
        },
        "id": "M1TmoaQhHSlX",
        "outputId": "87ed156c-5210-4a0a-baf2-5d2fa696736a"
      },
      "execution_count": 59,
      "outputs": [
        {
          "output_type": "stream",
          "name": "stdout",
          "text": [
            "[3, 4, 5, 6, 7, 8]\n"
          ]
        }
      ]
    },
    {
      "cell_type": "code",
      "source": [
        "print(varList[2:8:2])"
      ],
      "metadata": {
        "colab": {
          "base_uri": "https://localhost:8080/"
        },
        "id": "fOU59VQFHf1v",
        "outputId": "71a09497-f3ea-4f06-d13c-45765549c32c"
      },
      "execution_count": 60,
      "outputs": [
        {
          "output_type": "stream",
          "name": "stdout",
          "text": [
            "[3, 5, 7]\n"
          ]
        }
      ]
    },
    {
      "cell_type": "markdown",
      "source": [
        "*Note:\n",
        "list(start:)\n",
        "list(:end)\n",
        "list(start:end)\n",
        "list(start:end:step)"
      ],
      "metadata": {
        "id": "Y2e0E53VHlFW"
      }
    },
    {
      "cell_type": "markdown",
      "source": [
        "9. Functions"
      ],
      "metadata": {
        "id": "i9XO--VWIVBB"
      }
    },
    {
      "cell_type": "markdown",
      "source": [
        "Python functions use the following notation"
      ],
      "metadata": {
        "id": "aiDCl9h7IgEf"
      }
    },
    {
      "cell_type": "code",
      "source": [
        "def function_name:\n",
        "  commands"
      ],
      "metadata": {
        "id": "Bg2K8q_1IzMu"
      },
      "execution_count": null,
      "outputs": []
    },
    {
      "cell_type": "code",
      "source": [
        "def remainder(n, m):\n",
        "  while True:\n",
        "    if n - m < 0:\n",
        "      return n\n",
        "    else:\n",
        "      n = n - m\n",
        "\n",
        "remainder(10, 4)"
      ],
      "metadata": {
        "colab": {
          "base_uri": "https://localhost:8080/"
        },
        "id": "Z5aY2MDsI0rW",
        "outputId": "1c49a18c-8d1c-474b-ad9b-3a11addf0baa"
      },
      "execution_count": 61,
      "outputs": [
        {
          "output_type": "execute_result",
          "data": {
            "text/plain": [
              "2"
            ]
          },
          "metadata": {},
          "execution_count": 61
        }
      ]
    },
    {
      "cell_type": "markdown",
      "source": [
        "*Note: Functions are defined with the keyword def before the function_name. Similar to loops, the function definition ends with a colon (:) while its contents are indented."
      ],
      "metadata": {
        "id": "cGuS6gaCJH9f"
      }
    }
  ]
}