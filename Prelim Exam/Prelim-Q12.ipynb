{
  "nbformat": 4,
  "nbformat_minor": 0,
  "metadata": {
    "colab": {
      "provenance": [],
      "authorship_tag": "ABX9TyOJ75ipWIkT9enezM2jpoaa",
      "include_colab_link": true
    },
    "kernelspec": {
      "name": "python3",
      "display_name": "Python 3"
    },
    "language_info": {
      "name": "python"
    }
  },
  "cells": [
    {
      "cell_type": "markdown",
      "metadata": {
        "id": "view-in-github",
        "colab_type": "text"
      },
      "source": [
        "<a href=\"https://colab.research.google.com/github/de-fernandez/CpE-031-VDA-CpE-21S4/blob/main/Prelim-Q12.ipynb\" target=\"_parent\"><img src=\"https://colab.research.google.com/assets/colab-badge.svg\" alt=\"Open In Colab\"/></a>"
      ]
    },
    {
      "cell_type": "markdown",
      "source": [
        "> <h1> Prelim Exam</h1>"
      ],
      "metadata": {
        "id": "dopNpb-qE7F5"
      }
    },
    {
      "cell_type": "code",
      "execution_count": 40,
      "metadata": {
        "colab": {
          "base_uri": "https://localhost:8080/"
        },
        "id": "Av50UEXZ34mL",
        "outputId": "00a2b058-c3c0-4568-f166-486333966e87"
      },
      "outputs": [
        {
          "output_type": "stream",
          "name": "stdout",
          "text": [
            "   Original DataFrame\n",
            "    col1  col2  col3\n",
            "0     1     4     7\n",
            "1     4     5     8\n",
            "2     3     6     9\n",
            "3     4     7     0\n",
            "4     5     8     1\n",
            "\n",
            "   New DataFrame\n",
            "    col1  col2  col3\n",
            "0     1     4     7\n",
            "2     3     6     9\n",
            "3     4     7     0\n",
            "4     5     8     1\n"
          ]
        }
      ],
      "source": [
        "import pandas as pd\n",
        "\n",
        "Data = {\n",
        "  'col1': [1, 4, 3, 4, 5],\n",
        "  'col2': [4, 5, 6, 7, 8],\n",
        "  'col3': [7, 8, 9, 0, 1]\n",
        "}\n",
        "\n",
        "dt = pd.DataFrame(Data)\n",
        "print(\"   Original DataFrame\\n\", dt)\n",
        "\n",
        "dt = pd.DataFrame(Data)\n",
        "print(\"\\n   New DataFrame\\n\", dt.drop([1]))"
      ]
    }
  ]
}
