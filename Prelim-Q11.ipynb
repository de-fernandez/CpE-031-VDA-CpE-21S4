{
  "nbformat": 4,
  "nbformat_minor": 0,
  "metadata": {
    "colab": {
      "provenance": [],
      "authorship_tag": "ABX9TyMsw1hSl8eu5DD4ps0Rb/LH",
      "include_colab_link": true
    },
    "kernelspec": {
      "name": "python3",
      "display_name": "Python 3"
    },
    "language_info": {
      "name": "python"
    }
  },
  "cells": [
    {
      "cell_type": "markdown",
      "metadata": {
        "id": "view-in-github",
        "colab_type": "text"
      },
      "source": [
        "<a href=\"https://colab.research.google.com/github/de-fernandez/CpE-031-VDA-CpE-21S4/blob/main/Prelim-Q11.ipynb\" target=\"_parent\"><img src=\"https://colab.research.google.com/assets/colab-badge.svg\" alt=\"Open In Colab\"/></a>"
      ]
    },
    {
      "cell_type": "markdown",
      "source": [
        "> <h1> Prelim Exam</h1>"
      ],
      "metadata": {
        "id": "dopNpb-qE7F5"
      }
    },
    {
      "cell_type": "code",
      "execution_count": 24,
      "metadata": {
        "colab": {
          "base_uri": "https://localhost:8080/"
        },
        "id": "Av50UEXZ34mL",
        "outputId": "b19b31de-7dfa-4daa-a84a-e7268a1b374d"
      },
      "outputs": [
        {
          "output_type": "stream",
          "name": "stdout",
          "text": [
            "    x   y   z\n",
            "0  78  84  86\n",
            "1  85  94  97\n",
            "2  96  89  96\n",
            "3  80  83  72\n",
            "4  86  86  83\n"
          ]
        }
      ],
      "source": [
        "import pandas as pd\n",
        "\n",
        "Data = {\n",
        "  'x': [78, 85, 96, 80, 86],\n",
        "  'y': [84, 94, 89, 83, 86],\n",
        "  'z': [86, 97, 96, 72, 83]\n",
        "}\n",
        "\n",
        "dt = pd.DataFrame(Data)\n",
        "print(dt)"
      ]
    }
  ]
}